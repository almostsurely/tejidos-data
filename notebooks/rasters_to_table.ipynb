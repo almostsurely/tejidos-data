{
 "cells": [
  {
   "cell_type": "code",
   "execution_count": null,
   "metadata": {},
   "outputs": [],
   "source": [
    "import os\n",
    "import numpy as np\n",
    "import rasterio"
   ]
  },
  {
   "cell_type": "code",
   "execution_count": null,
   "metadata": {},
   "outputs": [],
   "source": [
    "# There are four rasters in the path\n",
    "rasters_path = \"./data/rastersh/\"\n",
    "for file in os.listdir(rasters_path):\n",
    "    if file.endswith(\".tif\"):\n",
    "        print(file)\n"
   ]
  },
  {
   "cell_type": "code",
   "execution_count": null,
   "metadata": {},
   "outputs": [],
   "source": [
    "# We may use rasterio to read in a raster as a numpy array\n",
    "with rasterio.open(rasters_path + \"altitud.tif\", 'r') as raster:\n",
    "    arr = raster.read()"
   ]
  },
  {
   "cell_type": "code",
   "execution_count": null,
   "metadata": {},
   "outputs": [],
   "source": [
    "# The raster has 103*129 = 13289 pixels\n",
    "print(np.shape(arr))"
   ]
  },
  {
   "cell_type": "code",
   "execution_count": null,
   "metadata": {},
   "outputs": [],
   "source": [
    "# Initialize a 13287 * 4 numpy array to store all (flattened) rasters\n",
    "rast_table = np.zeros((13287,4))"
   ]
  },
  {
   "cell_type": "code",
   "execution_count": null,
   "metadata": {},
   "outputs": [],
   "source": [
    "# Populate rast_table with rasters\n",
    "rasters_path = \"./data/rastersh/\"\n",
    "i = 0\n",
    "for file in os.listdir(rasters_path):\n",
    "    if file.endswith(\".tif\"):\n",
    "        with rasterio.open(rasters_path + file, 'r') as raster:\n",
    "            arr = raster.read()  # read all raster values\n",
    "            rast_table[:,i] = np.ndarray.flatten(arr)\n",
    "            i += 1"
   ]
  },
  {
   "cell_type": "code",
   "execution_count": null,
   "metadata": {},
   "outputs": [],
   "source": [
    "print(rast_table)"
   ]
  },
  {
   "cell_type": "code",
   "execution_count": null,
   "metadata": {},
   "outputs": [],
   "source": []
  },
  {
   "cell_type": "code",
   "execution_count": null,
   "metadata": {},
   "outputs": [],
   "source": []
  }
 ],
 "metadata": {
  "kernelspec": {
   "display_name": "tejidos",
   "language": "python",
   "name": "tejidos"
  },
  "language_info": {
   "codemirror_mode": {
    "name": "ipython",
    "version": 3
   },
   "file_extension": ".py",
   "mimetype": "text/x-python",
   "name": "python",
   "nbconvert_exporter": "python",
   "pygments_lexer": "ipython3",
   "version": "3.7.9"
  }
 },
 "nbformat": 4,
 "nbformat_minor": 4
}
